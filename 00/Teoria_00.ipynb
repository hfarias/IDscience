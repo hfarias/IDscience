{
 "metadata": {
  "name": ""
 },
 "nbformat": 3,
 "nbformat_minor": 0,
 "worksheets": [
  {
   "cells": [
    {
     "cell_type": "markdown",
     "metadata": {
      "slideshow": {
       "slide_type": "slide"
      }
     },
     "source": [
      "Introducci\u00f3n a DataScience\n",
      "==================================\n",
      "***\n",
      "\n",
      "<img src=\"userena.jpg\" />\n",
      "\n",
      "### Departamento de Matematicas\n",
      "\n",
      "### Universidad de La Serena\n",
      "\n"
     ]
    },
    {
     "cell_type": "markdown",
     "metadata": {
      "slideshow": {
       "slide_type": "slide"
      }
     },
     "source": [
      "## Contacto\n",
      "___\n",
      "Profesor: [Humberto Farias Aroca]()\n",
      "\n",
      "Repocitorio del curso : [http://github.com/hfarias/IDscience](https://github.com/hfarias/IDscience.git)\n",
      "\n",
      "Mail: [hfarias@userena.cl](mailto:hfarias@userena.cl)"
     ]
    },
    {
     "cell_type": "markdown",
     "metadata": {
      "slideshow": {
       "slide_type": "slide"
      }
     },
     "source": [
      "# sobre mi\n",
      "___\n",
      "\n",
      "<img src=\"yo.jpg\" />\n"
     ]
    },
    {
     "cell_type": "markdown",
     "metadata": {
      "slideshow": {
       "slide_type": "slide"
      }
     },
     "source": [
      "# indice\n",
      "___\n",
      "\n",
      "0. El curso\n",
      "1. \u00bfQu\u00e9 es `Datascience`?\n",
      "2. \u00bfQui\u00e9n es un `Data Scientist` ?\n",
      "3. \u00bf\u00bfBigData??\n",
      "4. Ejemplo\n"
     ]
    },
    {
     "cell_type": "markdown",
     "metadata": {
      "slideshow": {
       "slide_type": "slide"
      }
     },
     "source": [
      "## El Curso\n",
      "___\n"
     ]
    },
    {
     "cell_type": "markdown",
     "metadata": {
      "slideshow": {
       "slide_type": "subslide"
      }
     },
     "source": [
      "## No se trata de:\n",
      "___\n",
      "\n",
      "<img src=\"teoria.jpg\" />\n"
     ]
    },
    {
     "cell_type": "markdown",
     "metadata": {
      "slideshow": {
       "slide_type": "fragment"
      }
     },
     "source": [
      "No es solo aspectos te\u00f3ricos, o ingenier\u00eda de datos."
     ]
    },
    {
     "cell_type": "markdown",
     "metadata": {
      "slideshow": {
       "slide_type": "subslide"
      }
     },
     "source": [
      "## Se trata de:\n",
      "___\n",
      "\n",
      "<img src=\"practica.jpg\" />\n"
     ]
    },
    {
     "cell_type": "markdown",
     "metadata": {
      "slideshow": {
       "slide_type": "fragment"
      }
     },
     "source": [
      "Se trata de adquirir por **la practica** la habilidades necesarias para construir productos de datos en base al uso de las ultimas herramientas y apis para la gesti\u00f3n de datos."
     ]
    },
    {
     "cell_type": "markdown",
     "metadata": {
      "slideshow": {
       "slide_type": "subslide"
      }
     },
     "source": [
      "## Informaci\u00f3n general\n",
      "___\n",
      "\n",
      "\n",
      "\n",
      "El creciente y sistem\u00e1tico **aumento de los vol\u00famenes de informaci\u00f3n** que se generan cada d\u00eda ha abierto la necesidad de nuevas y m\u00e1s **eficientes t\u00e9cnicas para recolectar, procesar, analizar y presentar la informaci\u00f3n** en especial en \u00e1mbitos cient\u00edficos. El presente curso es una introducci\u00f3n a este **nuevo campo** denominado Datascience.\n"
     ]
    },
    {
     "cell_type": "markdown",
     "metadata": {
      "slideshow": {
       "slide_type": "subslide"
      }
     },
     "source": [
      "## Objetivos\n",
      "___\n",
      "\n",
      "El alumno al finalizar el curso deber\u00e1 ser capaz de:\n",
      "\n",
      "* Conocer que es y donde se puede aplicar las t\u00e9cnicas y metodolog\u00edas de Datascience.\n",
      "* Construir un entorno de an\u00e1lisis de datos sobre Python.\n",
      "* Entender y usar el entorno interactivo de desarrollo y an\u00e1lisis IPython.\n",
      "* Recolectar, transformar y analizar fuentes de datos con el fin de obtener la informaci\u00f3n que desea.\n",
      "* Entender, configurar y usar la librer\u00eda de an\u00e1lisis estad\u00edstico Pandas de Python.\n",
      "* Entender, configurar y usar la librer\u00eda para gr\u00e1ficos Matplotlib de Python.\n",
      "* Entender, configurar y usar la librer\u00eda de Machine Learning Scikit-Learn  de Python.\n",
      "\n"
     ]
    },
    {
     "cell_type": "markdown",
     "metadata": {
      "slideshow": {
       "slide_type": "subslide"
      }
     },
     "source": [
      "## Lenguajes y librer\u00edas\n",
      "___\n",
      "\n",
      "<img src=\"toolbox.jpg\" />\n"
     ]
    },
    {
     "cell_type": "markdown",
     "metadata": {
      "slideshow": {
       "slide_type": "subslide"
      }
     },
     "source": [
      "## Evaluaciones\n",
      "___\n",
      "\n",
      "\n",
      "**Semana 6 \u2013 25 % nota final**\n",
      "\n",
      "Taller individual: Crear un notebook de IPython que incluya las siguientes operaciones: Leer archivos, operaciones matem\u00e1ticas b\u00e1sicas\n",
      "\n",
      "**Semana 14 \u2013 25 % nota final**\n",
      "\n",
      "Control de lectura.\n",
      "\n",
      "**Semana 16 \u2013 50 % nota final.**\n",
      "\n",
      "Taller grupal: Desarrollo un an\u00e1lisis estad\u00edstico descriptivo de una determinada fuente de datos. El an\u00e1lisis debe permitir responder una serie de preguntas. El an\u00e1lisis de debe desarrollar usando las librer\u00edas Pandas y Matplotlib y debe entregar un notebook de IPython con los resultados.   \n"
     ]
    },
    {
     "cell_type": "markdown",
     "metadata": {
      "slideshow": {
       "slide_type": "slide"
      }
     },
     "source": [
      "## \u00bfQu\u00e9 es Datascience?\n",
      "___\n",
      "\n",
      "<img src=\"datascience.jpg\" />\n"
     ]
    },
    {
     "cell_type": "markdown",
     "metadata": {
      "slideshow": {
       "slide_type": "subslide"
      }
     },
     "source": [
      "## Concepto\n",
      "___\n",
      "Si bien el termino *Datascience*  fue usado por primera Peter Naur in 1960, es retomado y re-enfocado en lo actualmente conocemos como datascience por DJ Patil (LinkedIn) y Jeff Hammerbacher (Facebook) en 2008  en su trabajo : [Building data science teams](http://radar.oreilly.com/2011/09/building-data-science-teams.html) donde se contextualiza el concepto de *datascience* a la realidad actual del volumen y complejidad de los datos que se dispone adem\u00e1s de la necesidad de realizar an\u00e1lisis y estudios de los datos."
     ]
    },
    {
     "cell_type": "markdown",
     "metadata": {
      "slideshow": {
       "slide_type": "subslide"
      }
     },
     "source": [
      "## Definiciones\n",
      "\n",
      "___\n",
      "**Hal Varian**, Google\u2019s Chief Economist, New york Times: \n",
      "\n",
      ">`The ability to take data, to be able to understand it, to process it, to extract value from it, to visualize it, to communicate it that\u2019s going to be a hugely important skill.`"
     ]
    },
    {
     "cell_type": "markdown",
     "metadata": {
      "slideshow": {
       "slide_type": "subslide"
      }
     },
     "source": [
      "**Mike Driscoll**, CEO of metamarkets: \n",
      "\n",
      ">**`Data science, as it\u2019s practiced, is a blend of Red-Bull-fueled hacking and espresso-inspired statistics.`**\n",
      "\n",
      ">`But data science is not merely hacking\u2014because when hackers finish debugging their Bash one-liners and Pig scripts, few of them care about non-Euclidean distance metrics.`\n",
      "\n",
      ">`And data science is not merely statistics, because when statisticians finish theorizing the perfect model, few could read a tab-delimited file into R if their job depended on it.`\n",
      "\n",
      ">**`Data science is the civil engineering of data. Its acolytes possess a practical knowledge of tools and materials, coupled with a theoretical understanding of what\u2019s possible.`**"
     ]
    },
    {
     "cell_type": "markdown",
     "metadata": {
      "slideshow": {
       "slide_type": "subslide"
      }
     },
     "source": [
      "**Jeffrey Stanton**, Syracuse University School of Information Studies \n",
      "\n",
      ">`Data Science refers to an emerging area of work concerned with the collection, preparation, analysis, visualization, management and preservation of large collections of information.` "
     ]
    },
    {
     "cell_type": "markdown",
     "metadata": {
      "slideshow": {
       "slide_type": "subslide"
      }
     },
     "source": [
      "##  Diagrama Venn de Data Science \n",
      "___\n",
      "<img src=\"VennDiagram.jpg\" />"
     ]
    },
    {
     "cell_type": "markdown",
     "metadata": {
      "slideshow": {
       "slide_type": "subslide"
      }
     },
     "source": [
      "## Ejemplo introductorios\n",
      "___\n",
      "<img src=\"linkedin.jpg\" />\n",
      "\n",
      "Uno de los primeros caso pr\u00e1cticos es el del algoritmo [People You May Know](http://blog.linkedin.com/2008/04/11/learn-more-abou-2/) (PYMK) desarrollado por Jonathan Goldman, ~~PhD en f\u00edsica de la universidad de Stanford~~, que b\u00e1sicamente permite saber si yo conozco a juan perez, y el a su vez conoce a Jeff Hammerbacher (o a alguien que lo conozca). Existe la posibilidad que yo conozca a Jeff Hammerbacher. "
     ]
    },
    {
     "cell_type": "markdown",
     "metadata": {
      "slideshow": {
       "slide_type": "fragment"
      }
     },
     "source": [
      "<img src=\"Jeff_Hammerbacher.jpg\" />"
     ]
    },
    {
     "cell_type": "markdown",
     "metadata": {
      "slideshow": {
       "slide_type": "notes"
      }
     },
     "source": [
      "Cuando esto se puso en la pagina, lo click en esta parte estaban un 30% sobre cualquier otra funcionalidad y se le sindica como uno de las principales razones en crecimiento en el uso de linkedin."
     ]
    },
    {
     "cell_type": "markdown",
     "metadata": {
      "slideshow": {
       "slide_type": "subslide"
      }
     },
     "source": [
      "<img src=\"fb.jpg\" />\n",
      "\n",
      "**Facebook** claramente tiene su propia versi\u00f3n de PYMK, pero tambi\u00e9n va muchos mas alla registrando el tiempo que toma a los usuario hacer `amistades`. Registran el tiempo y el numero conexiones para que un usuario incipiente se convierta en un usuario activo adem\u00e1s de otras complejas interacciones dentro de esta red.  Analizando los datos de estas interacciones complejas que permiten visualizar el nivel de actividad social del usuario, Facebook van modificando el sitio para que **disminuir el tiempo que toma a un nuevo usuario contactarse con el numero critico de \u201camigos\u201d que implica que con mayor probabilidad el nuevo usuario se convertir\u00e1 en un miembro activo de la red social.**"
     ]
    },
    {
     "cell_type": "markdown",
     "metadata": {
      "slideshow": {
       "slide_type": "subslide"
      }
     },
     "source": [
      "<img src=\"netflix.jpg\" />\n",
      "\n",
      "**Netflix** hace algo similar a Facebook, cuando un nuevo usuario se registra, ellos promueven fuertemente al usuario para que agregue pel\u00edculas a la colas de las que desee ver. El equipo de Netflix ha descubierto que mientras mayor sea este numero la probabilidad que el nuevo usuario se mantenga es mucho mayor. \n",
      "\n",
      "Adem\u00e1s de esto Netflix presentan un caso emblem\u00e1tico el de serie de House of Cards, pues se ha informado que el desarrollo de serie fue apoyado por un contundente an\u00e1lisis de la interacci\u00f3n los usuarios en netflix por ejemplo cuales eran los momentos mas repetidos en las pel\u00edculas as\u00ed tambi\u00e9n cuales eran las escenas mas vistas y otros aspectos similares."
     ]
    },
    {
     "cell_type": "markdown",
     "metadata": {
      "slideshow": {
       "slide_type": "subslide"
      }
     },
     "source": [
      "<img src=\"google.jpg\" />\n",
      "\n",
      "**Goggle** es un tit\u00e1n en Datascience tanto en el uso como tambi\u00e9n el desarrollo de herramientas y soporte de aplicaciones **SaaS**.\n",
      "\n",
      "Por solo nombrar algunas:\n",
      "\n",
      "* Google Analytcs.\n",
      "* MapReduce.\n",
      "* Page Rank."
     ]
    },
    {
     "cell_type": "markdown",
     "metadata": {
      "slideshow": {
       "slide_type": "subslide"
      }
     },
     "source": [
      "<img src=\"googleFlu.jpg\" />"
     ]
    },
    {
     "cell_type": "markdown",
     "metadata": {
      "slideshow": {
       "slide_type": "subslide"
      }
     },
     "source": [
      "## Criticas\n",
      "___\n",
      "\n",
      "<img src=\"nociencia.gif\" />"
     ]
    },
    {
     "cell_type": "markdown",
     "metadata": {
      "slideshow": {
       "slide_type": "fragment"
      }
     },
     "source": [
      "<img src=\"nociencia2.gif\" />"
     ]
    },
    {
     "cell_type": "markdown",
     "metadata": {
      "slideshow": {
       "slide_type": "subslide"
      }
     },
     "source": [
      "\n",
      "\n",
      "**Drew Conway**, PhD student in Politics at NYU \n",
      "\n",
      ">`First, the term \"data science\" is a` ** misnomer **` with respect to what most people consider endeavors classified as such.  Fundamentally, science is about formalizing a hypothesis given a reasonable set of observations and assumptions, designing an experiment around that hypothesis, testings it and analyzing the data generated through that process to either confirm or falsify the hypothesis`**.  Therefore, \"data\" is simply a natural byproduct of science**`.  Very (very) rarely are things labeled as data science actually scientific.` \n",
      "\n",
      "Opin\u00edon obtenida del sitio [Quora.com](http://www.quora.com/Data-Science/What-is-data-science)"
     ]
    },
    {
     "cell_type": "markdown",
     "metadata": {
      "slideshow": {
       "slide_type": "subslide"
      }
     },
     "source": [
      "## Resumen\n",
      "___\n",
      "\n",
      "**Datascience** se trata de construir productos (datos), no solo entregar informaci\u00f3n para apoyar la toma de decisiones. Es b\u00e1sicamente el desarrollo de aplicaciones que van desde la captura o selecci\u00f3n (`fuentes variadas de datos- BigData`), el manejo, la transformaci\u00f3n (`machine learning`) de los datos y la presentaci\u00f3n de la informaci\u00f3n recolectada."
     ]
    },
    {
     "cell_type": "markdown",
     "metadata": {
      "slideshow": {
       "slide_type": "slide"
      }
     },
     "source": [
      "## \u00bfQui\u00e9n es el  Data Scientist?\n",
      "___\n",
      "\n",
      "En octubre de 2012 la revista `Harvard Business Review`  publico un reportaje llamado:\n",
      "\n",
      "**\u201cData Scientist: The Sexiest Job of the 21st Century\u201d**\n",
      "\n",
      "Donde se abordaba la aparici\u00f3n de un nuevo profesional dentro de ~~organizaciones~~  \u201cdeterminadas\u201d  organizaciones, el \u201cdata scientist\u201d  un profesional altamente capacitado con las competencias y curiosidad necesarias para analizar y descubrir informaci\u00f3n dentro del mundo de Big Data.\n",
      "\n",
      "<img src=\"hbr_data.jpg\" />"
     ]
    },
    {
     "cell_type": "markdown",
     "metadata": {
      "slideshow": {
       "slide_type": "subslide"
      }
     },
     "source": [
      "## Concepto\n",
      "___\n",
      "**DJ Patil y Jeff Hammerbacher** adem\u00e1s de contextualizar datascience a la realidad tecnol\u00f3gica actual, acu\u00f1an el termino [Data Scientist o cient\u00edfico de los datos](http://radar.oreilly.com/2011/09/building-data-science-teams.html), que es aquel profesional que se desarrolla en Datascience, y que dispone de  **las habilidades y la curiosidad** necesaria para hacer las grandes preguntas que hoy por hoy las organizaciones necesitan hacerse."
     ]
    },
    {
     "cell_type": "markdown",
     "metadata": {
      "slideshow": {
       "slide_type": "subslide"
      }
     },
     "source": [
      "**Jeff Hammerbacher**, Facebook: \n",
      "\n",
      ">` On any given day, a team member could author a multistage processing pipeline in Python, design a hypothesis test, perform a regression analysis over data samples with R, design and implement an algorithm for some data-intensive product or service in Hadoop, or communicate the results of our analyses to other members of the organization`"
     ]
    },
    {
     "cell_type": "markdown",
     "metadata": {
      "slideshow": {
       "slide_type": "subslide"
      }
     },
     "source": [
      "## Definiciones\n",
      "___\n",
      "**Paul Sonderegger**, Director senior de Analytics,Oracle: \n",
      "\n",
      ">`Los data scientist combinan diferentes capacidades. Un buen data scientist tiene que saber matem\u00e1ticas y tener capacidad anal\u00edtica y formaci\u00f3n en estad\u00edstica, pero tambi\u00e9n debe saber contar una historia y tener curiosidad, porque el punto b\u00e1sico es crear significado y valor sobre los datos.`"
     ]
    },
    {
     "cell_type": "markdown",
     "metadata": {
      "slideshow": {
       "slide_type": "subslide"
      }
     },
     "source": [
      "**Shlomo Argamon**, Illinois Institute of Technology: \n",
      "\n",
      ">`Data Scientist = statistician + programmer + coach + storyteller + artist.`"
     ]
    },
    {
     "cell_type": "markdown",
     "metadata": {
      "slideshow": {
       "slide_type": "subslide"
      }
     },
     "source": [
      "**Shlomo Argamon**, Chief scientist en bit.ly: \n",
      "\n",
      ">A data scientist is someone who can **obtain, scrub, explore, model and interpret data, blending hacking, statistics and machine learning**. Data scientists not only are adept at working with data, but appreciate **data** itself as a **first-class product**."
     ]
    },
    {
     "cell_type": "markdown",
     "metadata": {
      "slideshow": {
       "slide_type": "subslide"
      }
     },
     "source": [
      "<img src=\"nate.jpg\" />"
     ]
    },
    {
     "cell_type": "markdown",
     "metadata": {
      "slideshow": {
       "slide_type": "fragment"
      }
     },
     "source": [
      "**Nate Silver** y el gano las ultimas eleccciones de presidenciales de EE.UU"
     ]
    },
    {
     "cell_type": "markdown",
     "metadata": {
      "slideshow": {
       "slide_type": "subslide"
      }
     },
     "source": [
      "<img src=\"nategano.jpg\" />"
     ]
    },
    {
     "cell_type": "markdown",
     "metadata": {
      "slideshow": {
       "slide_type": "subslide"
      }
     },
     "source": [
      "## Habilidades\n",
      "___\n",
      "\n",
      "**Nathan Yau\u2019s**, en 2009 public\u00f3  [Rise of the Data Scientist](http://flowingdata.com/2009/06/04/rise-of-the-data-scientist/) trabajo que detalla tres habilidades que deb\u00eda tener un data scientist :\n",
      "\n",
      "1. Estad\u00edsticas (an\u00e1lisis tradicional, descripci\u00f3n del dataset)\n",
      "2. Data wrangling (parsing, scraping, formatting)\n",
      "3. Visualizaci\u00f3n"
     ]
    },
    {
     "cell_type": "markdown",
     "metadata": {
      "slideshow": {
       "slide_type": "subslide"
      }
     },
     "source": [
      "<img src=\"Rise_of_the_Data_Scientist.jpg\" />"
     ]
    },
    {
     "cell_type": "markdown",
     "metadata": {
      "slideshow": {
       "slide_type": "subslide"
      }
     },
     "source": [
      "## Habilidades\n",
      "___\n",
      "Harlan Harris en su libro [Analyzing the Analyzers](http://shop.oreilly.com/product/0636920029014.do) presenta el resultado de una serie de encuestas que realizo en 2012 a gente y empresas que trabajan en datascience, con el fin de caracterizar las habilidades que se requer\u00edan en determinadas \u00e1reas de datacience."
     ]
    },
    {
     "cell_type": "markdown",
     "metadata": {
      "slideshow": {
       "slide_type": "fragment"
      }
     },
     "source": [
      "<img src=\"harlan.jpg\" />"
     ]
    },
    {
     "cell_type": "markdown",
     "metadata": {
      "slideshow": {
       "slide_type": "subslide"
      }
     },
     "source": [
      "## Tener presente\n",
      "---\n",
      "\n",
      "1.\tLas habilidades para comunicar algo, est\u00e1n subestimadas.\n",
      "2.\tEl gran desaf\u00edo para un Data Scientist no es el modelamiento, es el data wrangling (recolectar y limpiar).\n",
      "3.\t El Data Scientist es mejor ~~estad\u00edstico~~ analista que un Ingeniero de Software y mejor Ingeniero de software que un ~~estad\u00edstico~~ que un analista.\n",
      "4.\tEl Data Scientist requiere curiosidad para trabajar con los datos, cualidad que puede ser de mayor importancia que las habilidades t\u00e9cnicas.\n"
     ]
    },
    {
     "cell_type": "markdown",
     "metadata": {
      "slideshow": {
       "slide_type": "subslide"
      }
     },
     "source": [
      "## Oportunidades\n",
      "___\n",
      "\n",
      "Gartner predice que habr\u00e1 alrededor de **4,4 millones de nuevos puestos** de trabajo en los pr\u00f3ximos dos a\u00f1os, pero a\u00f1ade que **s\u00f3lo una tercera parte de los candidatos estar\u00e1n realmente cualificados para desempe\u00f1ar esos trabajos**. Concreta m\u00e1s el McKinsey Global Institute, para el que **en los pr\u00f3ximos cinco a\u00f1os se abrir\u00e1n casi medio mill\u00f3n de puestos de data scientist**, sin contar con los directivos y empleados que deber\u00e1n reciclarse con el fin comprender los resultados de an\u00e1lisis elaborados por aqu\u00e9llos."
     ]
    },
    {
     "cell_type": "markdown",
     "metadata": {
      "slideshow": {
       "slide_type": "slide"
      }
     },
     "source": [
      "## BigData\n",
      "___\n",
      "<img src=\"bd.jpg\" />"
     ]
    },
    {
     "cell_type": "markdown",
     "metadata": {
      "slideshow": {
       "slide_type": "subslide"
      }
     },
     "source": [
      "**Eric Schmidt**, Google:\n",
      "\n",
      ">`Between the dawn of civilization and 2003, we only created five exabytes of information; now we\u2019re creating that amount every two days.`"
     ]
    },
    {
     "cell_type": "markdown",
     "metadata": {
      "slideshow": {
       "slide_type": "subslide"
      }
     },
     "source": [
      "## Que NO es BigData\n",
      "___\n",
      "\n",
      "BigData,~~al igual datascience~~, sufre el problema de que es usada para referirse a tecnolog\u00edas o procesos que no corresponden o mas bien son propios de otras \u00e1reas.\n",
      "\n"
     ]
    },
    {
     "cell_type": "markdown",
     "metadata": {
      "slideshow": {
       "slide_type": "subslide"
      }
     },
     "source": [
      "<img src=\"noBigData.jpg\" />"
     ]
    },
    {
     "cell_type": "code",
     "collapsed": false,
     "input": [
      "~/datascience  \u1405 git clone https://github.com/jseabold/538model.git\n",
      "\n",
      "Cloning into '538model'...\n",
      "remote: Counting objects: 65, done.\n",
      "remote: Total 65 (delta 0), reused 0 (delta 0)\n",
      "Unpacking objects: 100% (65/65), done.\n",
      "Checking connectivity... done.\n",
      "\n",
      "~/datascience  \u1405 du -h 538model/data \n",
      "188K\t538model/data"
     ],
     "language": "python",
     "metadata": {
      "slideshow": {
       "slide_type": "subslide"
      }
     },
     "outputs": []
    },
    {
     "cell_type": "markdown",
     "metadata": {
      "slideshow": {
       "slide_type": "subslide"
      }
     },
     "source": [
      "<img src=\"disquete.jpg\" />\n",
      "\n",
      "**188K** corresponde al 15% de la capacidad de un disquette (3\u20195 floppy disk), claramente eso es **Big**data"
     ]
    },
    {
     "cell_type": "markdown",
     "metadata": {
      "slideshow": {
       "slide_type": "subslide"
      }
     },
     "source": [
      "## Que es BigData\n",
      "___\n",
      "\n",
      "Big Data aplica para toda aquella informaci\u00f3n que **no puede ser procesada o analizada utilizando procesos o herramientas tradicionales**. Sin embargo, Big Data no se refiere a alguna cantidad en espec\u00edfico"
     ]
    },
    {
     "cell_type": "markdown",
     "metadata": {
      "slideshow": {
       "slide_type": "subslide"
      }
     },
     "source": [
      "## Las (+1) V de BigData\n",
      "___\n",
      "\n",
      "[Infografia](http://127.0.0.1:8009/the4.jpg)"
     ]
    },
    {
     "cell_type": "markdown",
     "metadata": {
      "slideshow": {
       "slide_type": "subslide"
      }
     },
     "source": [
      "## Los big-Datos\n",
      "___\n",
      "\n",
      "<img src=\"Big-Data-Types.jpg\" />\n"
     ]
    },
    {
     "cell_type": "markdown",
     "metadata": {
      "slideshow": {
       "slide_type": "subslide"
      }
     },
     "source": [
      "## Los big-Datos\n",
      "___\n",
      "\n",
      "\n",
      "1. **Web and Social Media:** Incluye contenido web e informaci\u00f3n que es obtenida de las redes sociales como Facebook, Twitter, LinkedIn, etc, blogs.\n",
      "\n",
      "2. **Machine-to-Machine (M2M):** M2M se refiere a las tecnolog\u00edas que permiten conectarse a otros dispositivos. M2M utiliza dispositivos como sensores o medidores que capturan alg\u00fan evento en particular (velocidad, temperatura, presi\u00f3n, variables meteorol\u00f3gicas, variables qu\u00edmicas como la salinidad, etc.) los cuales transmiten a trav\u00e9s de redes al\u00e1mbricas, inal\u00e1mbricas o h\u00edbridas a otras aplicaciones que traducen estos eventos en informaci\u00f3n significativa.\n",
      "\n",
      "3. **Big Transaction Data:** Incluye registros de facturaci\u00f3n, en telecomunicaciones registros detallados de las llamadas (CDR), etc. Estos datos transaccionales est\u00e1n disponibles en formatos tanto semiestructurados como no estructurados.\n",
      "\n",
      "4. **Biometrics:** Informaci\u00f3n biom\u00e9trica en la que se incluye huellas digitales, escaneo de la retina, reconocimiento facial, gen\u00e9tica, etc. En el \u00e1rea de seguridad e inteligencia, los datos biom\u00e9tricos han sido informaci\u00f3n importante para las agencias de investigaci\u00f3n.\n",
      "\n",
      "5. **Human Generated:** Las personas generamos diversas cantidades de datos como la informaci\u00f3n que guarda un call center al establecer una llamada telef\u00f3nica, notas de voz, correos electr\u00f3nicos, documentos electr\u00f3nicos, estudios m\u00e9dicos, etc."
     ]
    },
    {
     "cell_type": "markdown",
     "metadata": {
      "slideshow": {
       "slide_type": "subslide"
      }
     },
     "source": [
      "<img src=\"fin.jpg\" />\n"
     ]
    }
   ],
   "metadata": {}
  }
 ]
}